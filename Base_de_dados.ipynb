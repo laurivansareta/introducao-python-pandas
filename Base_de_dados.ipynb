{
 "cells": [
  {
   "cell_type": "markdown",
   "id": "7ff22469",
   "metadata": {},
   "source": [
    "# Relatório de Análise I"
   ]
  },
  {
   "cell_type": "markdown",
   "id": "d66daf38",
   "metadata": {},
   "source": [
    "## Importando dataset\n",
    "Este dataset contém informações de aluguéis do Rio de Janeiro"
   ]
  },
  {
   "cell_type": "code",
   "execution_count": 11,
   "id": "b59a9855",
   "metadata": {},
   "outputs": [],
   "source": [
    "import pandas as pd"
   ]
  },
  {
   "cell_type": "code",
   "execution_count": 12,
   "id": "cdc3dd65",
   "metadata": {},
   "outputs": [
    {
     "data": {
      "text/html": [
       "<div>\n",
       "<style scoped>\n",
       "    .dataframe tbody tr th:only-of-type {\n",
       "        vertical-align: middle;\n",
       "    }\n",
       "\n",
       "    .dataframe tbody tr th {\n",
       "        vertical-align: top;\n",
       "    }\n",
       "\n",
       "    .dataframe thead th {\n",
       "        text-align: right;\n",
       "    }\n",
       "</style>\n",
       "<table border=\"1\" class=\"dataframe\">\n",
       "  <thead>\n",
       "    <tr style=\"text-align: right;\">\n",
       "      <th></th>\n",
       "      <th>Tipo</th>\n",
       "      <th>Bairro</th>\n",
       "      <th>Quartos</th>\n",
       "      <th>Vagas</th>\n",
       "      <th>Suites</th>\n",
       "      <th>Area</th>\n",
       "      <th>Valor</th>\n",
       "      <th>Condominio</th>\n",
       "      <th>IPTU</th>\n",
       "    </tr>\n",
       "  </thead>\n",
       "  <tbody>\n",
       "    <tr>\n",
       "      <th>0</th>\n",
       "      <td>Quitinete</td>\n",
       "      <td>Copacabana</td>\n",
       "      <td>1</td>\n",
       "      <td>0</td>\n",
       "      <td>0</td>\n",
       "      <td>40</td>\n",
       "      <td>1700.0</td>\n",
       "      <td>500.0</td>\n",
       "      <td>60.0</td>\n",
       "    </tr>\n",
       "    <tr>\n",
       "      <th>1</th>\n",
       "      <td>Casa</td>\n",
       "      <td>Jardim Botânico</td>\n",
       "      <td>2</td>\n",
       "      <td>0</td>\n",
       "      <td>1</td>\n",
       "      <td>100</td>\n",
       "      <td>7000.0</td>\n",
       "      <td>NaN</td>\n",
       "      <td>NaN</td>\n",
       "    </tr>\n",
       "    <tr>\n",
       "      <th>2</th>\n",
       "      <td>Conjunto Comercial/Sala</td>\n",
       "      <td>Barra da Tijuca</td>\n",
       "      <td>0</td>\n",
       "      <td>4</td>\n",
       "      <td>0</td>\n",
       "      <td>150</td>\n",
       "      <td>5200.0</td>\n",
       "      <td>4020.0</td>\n",
       "      <td>1111.0</td>\n",
       "    </tr>\n",
       "    <tr>\n",
       "      <th>3</th>\n",
       "      <td>Apartamento</td>\n",
       "      <td>Centro</td>\n",
       "      <td>1</td>\n",
       "      <td>0</td>\n",
       "      <td>0</td>\n",
       "      <td>15</td>\n",
       "      <td>800.0</td>\n",
       "      <td>390.0</td>\n",
       "      <td>20.0</td>\n",
       "    </tr>\n",
       "    <tr>\n",
       "      <th>4</th>\n",
       "      <td>Apartamento</td>\n",
       "      <td>Higienópolis</td>\n",
       "      <td>1</td>\n",
       "      <td>0</td>\n",
       "      <td>0</td>\n",
       "      <td>48</td>\n",
       "      <td>800.0</td>\n",
       "      <td>230.0</td>\n",
       "      <td>NaN</td>\n",
       "    </tr>\n",
       "  </tbody>\n",
       "</table>\n",
       "</div>"
      ],
      "text/plain": [
       "                      Tipo           Bairro  Quartos  Vagas  Suites  Area  \\\n",
       "0                Quitinete       Copacabana        1      0       0    40   \n",
       "1                     Casa  Jardim Botânico        2      0       1   100   \n",
       "2  Conjunto Comercial/Sala  Barra da Tijuca        0      4       0   150   \n",
       "3              Apartamento           Centro        1      0       0    15   \n",
       "4              Apartamento     Higienópolis        1      0       0    48   \n",
       "\n",
       "    Valor  Condominio    IPTU  \n",
       "0  1700.0       500.0    60.0  \n",
       "1  7000.0         NaN     NaN  \n",
       "2  5200.0      4020.0  1111.0  \n",
       "3   800.0       390.0    20.0  \n",
       "4   800.0       230.0     NaN  "
      ]
     },
     "execution_count": 12,
     "metadata": {},
     "output_type": "execute_result"
    }
   ],
   "source": [
    "dados = pd.read_csv(\"dados/aluguel.csv\", sep=';')\n",
    "\n",
    "dados.head()"
   ]
  },
  {
   "cell_type": "code",
   "execution_count": 13,
   "id": "92206047",
   "metadata": {},
   "outputs": [
    {
     "name": "stdout",
     "output_type": "stream",
     "text": [
      "<class 'pandas.core.frame.DataFrame'>\n",
      "RangeIndex: 32960 entries, 0 to 32959\n",
      "Data columns (total 9 columns):\n",
      " #   Column      Non-Null Count  Dtype  \n",
      "---  ------      --------------  -----  \n",
      " 0   Tipo        32960 non-null  object \n",
      " 1   Bairro      32960 non-null  object \n",
      " 2   Quartos     32960 non-null  int64  \n",
      " 3   Vagas       32960 non-null  int64  \n",
      " 4   Suites      32960 non-null  int64  \n",
      " 5   Area        32960 non-null  int64  \n",
      " 6   Valor       32943 non-null  float64\n",
      " 7   Condominio  28867 non-null  float64\n",
      " 8   IPTU        22723 non-null  float64\n",
      "dtypes: float64(3), int64(4), object(2)\n",
      "memory usage: 2.3+ MB\n"
     ]
    }
   ],
   "source": [
    "dados.info()"
   ]
  },
  {
   "cell_type": "markdown",
   "id": "16812cde",
   "metadata": {},
   "source": [
    "## Informações gerais sobre a base de dados"
   ]
  },
  {
   "cell_type": "code",
   "execution_count": 16,
   "id": "2dd26eb3",
   "metadata": {},
   "outputs": [
    {
     "data": {
      "text/plain": [
       "Tipo           object\n",
       "Bairro         object\n",
       "Quartos         int64\n",
       "Vagas           int64\n",
       "Suites          int64\n",
       "Area            int64\n",
       "Valor         float64\n",
       "Condominio    float64\n",
       "IPTU          float64\n",
       "dtype: object"
      ]
     },
     "execution_count": 16,
     "metadata": {},
     "output_type": "execute_result"
    }
   ],
   "source": [
    "dados.dtypes"
   ]
  },
  {
   "cell_type": "code",
   "execution_count": 29,
   "id": "1dd3aca8",
   "metadata": {},
   "outputs": [
    {
     "data": {
      "text/html": [
       "<div>\n",
       "<style scoped>\n",
       "    .dataframe tbody tr th:only-of-type {\n",
       "        vertical-align: middle;\n",
       "    }\n",
       "\n",
       "    .dataframe tbody tr th {\n",
       "        vertical-align: top;\n",
       "    }\n",
       "\n",
       "    .dataframe thead th {\n",
       "        text-align: right;\n",
       "    }\n",
       "</style>\n",
       "<table border=\"1\" class=\"dataframe\">\n",
       "  <thead>\n",
       "    <tr style=\"text-align: right;\">\n",
       "      <th>variáveis</th>\n",
       "      <th>Tipos de Dados</th>\n",
       "    </tr>\n",
       "  </thead>\n",
       "  <tbody>\n",
       "    <tr>\n",
       "      <th>Tipo</th>\n",
       "      <td>object</td>\n",
       "    </tr>\n",
       "    <tr>\n",
       "      <th>Bairro</th>\n",
       "      <td>object</td>\n",
       "    </tr>\n",
       "    <tr>\n",
       "      <th>Quartos</th>\n",
       "      <td>int64</td>\n",
       "    </tr>\n",
       "    <tr>\n",
       "      <th>Vagas</th>\n",
       "      <td>int64</td>\n",
       "    </tr>\n",
       "    <tr>\n",
       "      <th>Suites</th>\n",
       "      <td>int64</td>\n",
       "    </tr>\n",
       "    <tr>\n",
       "      <th>Area</th>\n",
       "      <td>int64</td>\n",
       "    </tr>\n",
       "    <tr>\n",
       "      <th>Valor</th>\n",
       "      <td>float64</td>\n",
       "    </tr>\n",
       "    <tr>\n",
       "      <th>Condominio</th>\n",
       "      <td>float64</td>\n",
       "    </tr>\n",
       "    <tr>\n",
       "      <th>IPTU</th>\n",
       "      <td>float64</td>\n",
       "    </tr>\n",
       "  </tbody>\n",
       "</table>\n",
       "</div>"
      ],
      "text/plain": [
       "variáveis  Tipos de Dados\n",
       "Tipo               object\n",
       "Bairro             object\n",
       "Quartos             int64\n",
       "Vagas               int64\n",
       "Suites              int64\n",
       "Area                int64\n",
       "Valor             float64\n",
       "Condominio        float64\n",
       "IPTU              float64"
      ]
     },
     "execution_count": 29,
     "metadata": {},
     "output_type": "execute_result"
    }
   ],
   "source": [
    "tipos_de_dados = pd.DataFrame(dados.dtypes, columns = ['Tipos de Dados'])\n",
    "tipos_de_dados.columns.name = 'variáveis'\n",
    "tipos_de_dados"
   ]
  },
  {
   "cell_type": "code",
   "execution_count": 38,
   "id": "08c57f55",
   "metadata": {},
   "outputs": [
    {
     "name": "stdout",
     "output_type": "stream",
     "text": [
      "A base de dados apresenta 32960 registros(imóveis) e 9 variáveis\n"
     ]
    }
   ],
   "source": [
    "#print(\"A base de dados apresenta {} registros(imóveis) e {} variáveis\".format(dados.shape[0], dados.shape[1]))\n",
    "\n",
    "registros = dados.shape[0]\n",
    "variaveis = dados.shape[1]\n",
    "\n",
    "print(f\"A base de dados apresenta {registros} registros(imóveis) e {variaveis} variáveis\")\n"
   ]
  }
 ],
 "metadata": {
  "kernelspec": {
   "display_name": "Python 3",
   "language": "python",
   "name": "python3"
  },
  "language_info": {
   "codemirror_mode": {
    "name": "ipython",
    "version": 3
   },
   "file_extension": ".py",
   "mimetype": "text/x-python",
   "name": "python",
   "nbconvert_exporter": "python",
   "pygments_lexer": "ipython3",
   "version": "3.8.8"
  }
 },
 "nbformat": 4,
 "nbformat_minor": 5
}
